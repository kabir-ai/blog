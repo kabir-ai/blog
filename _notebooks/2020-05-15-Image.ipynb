{
  "nbformat": 4,
  "nbformat_minor": 0,
  "metadata": {
    "colab": {
      "name": "2020-05-15-Image.ipynb",
      "provenance": [],
      "collapsed_sections": []
    },
    "kernelspec": {
      "name": "python3",
      "display_name": "Python 3"
    }
  },
  "cells": [
    {
      "cell_type": "markdown",
      "metadata": {
        "id": "TKuzDUOTea00",
        "colab_type": "text"
      },
      "source": [
        "# Image processing : Comparison between OpenCV and PIL-SIMD\n",
        "\n",
        "- toc: true- branch: master- badges: true\n",
        "- comments: true\n",
        "- author: \n",
        "- categories: [image processing, computer vision]\n",
        "\n",
        "## Summary\n",
        "\n",
        "Fast image processing is important to efficiently research and deploy computer vision models. During my research i found that some people whom i admire Jeremy Howard who has built the amazing fastai library uses Pillow-SIMD ( a more effiecient version of Pillow library). Furthermore the awesome Pytorch library uses pillow. So i set to do a small experiment to compare OpenCV which is my standard go to library for image processing with Pillow-SIMD.\n",
        "\n",
        "I have made this comparison on a 64 bit system since they are more capable and tend to be used more for high computation systems.\n",
        "\n",
        "summary\n",
        "\n",
        "OpenCV is x times faster than Pillow-SIMD\n",
        "- loading  :\n",
        "- flipping :\n",
        "- resizing :\n",
        "- blurring :\n",
        "- rotation :\n",
        "\n",
        "\n",
        "**Spolier Alert**\n",
        "\n",
        "\n",
        "---\n",
        "\n",
        "\n",
        "The OpevCV library in python is faster than Pillow-SIMD based on the brief experiment below on a 64 bit system\n",
        "\n",
        "\n",
        "---\n",
        "\n",
        "\n"
      ]
    }
  ]
}